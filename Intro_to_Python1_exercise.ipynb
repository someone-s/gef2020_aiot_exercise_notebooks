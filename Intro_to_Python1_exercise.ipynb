{
  "nbformat": 4,
  "nbformat_minor": 0,
  "metadata": {
    "colab": {
      "name": "Intro_to_Python1_exercise.ipynb",
      "provenance": [],
      "collapsed_sections": [],
      "include_colab_link": true
    },
    "kernelspec": {
      "display_name": "Python 3",
      "language": "python",
      "name": "python3"
    },
    "language_info": {
      "codemirror_mode": {
        "name": "ipython",
        "version": 3
      },
      "file_extension": ".py",
      "mimetype": "text/x-python",
      "name": "python",
      "nbconvert_exporter": "python",
      "pygments_lexer": "ipython3",
      "version": "3.7.6"
    }
  },
  "cells": [
    {
      "cell_type": "markdown",
      "metadata": {
        "id": "view-in-github",
        "colab_type": "text"
      },
      "source": [
        "<a href=\"https://colab.research.google.com/gist/someone-s/aa45b1ecbaf0ed871bf8d7e04953f882/intro_to_python1_exercise.ipynb\" target=\"_parent\"><img src=\"https://colab.research.google.com/assets/colab-badge.svg\" alt=\"Open In Colab\"/></a>"
      ]
    },
    {
      "cell_type": "markdown",
      "metadata": {
        "id": "I2KP5gAzZ9U6"
      },
      "source": [
        "# Exercise 1"
      ]
    },
    {
      "cell_type": "code",
      "metadata": {
        "id": "G44U1WpZZ9U-",
        "outputId": "9e14043c-a093-4cd2-a38d-e0b5b77c6883",
        "colab": {
          "base_uri": "https://localhost:8080/"
        }
      },
      "source": [
        "name = input('What is your name?')\n",
        "print(\"Hi,\" + name + '!')"
      ],
      "execution_count": 16,
      "outputs": [
        {
          "output_type": "stream",
          "text": [
            "What is your name?a\n",
            "Hi,a!\n"
          ],
          "name": "stdout"
        }
      ]
    },
    {
      "cell_type": "markdown",
      "metadata": {
        "id": "e3CjiKpbN0b_"
      },
      "source": [
        ""
      ]
    },
    {
      "cell_type": "markdown",
      "metadata": {
        "id": "OL_g0JKfZ9VE"
      },
      "source": [
        "# Exercise2"
      ]
    },
    {
      "cell_type": "code",
      "metadata": {
        "id": "9QWTc4XbZ9VF",
        "outputId": "16365eb0-93ec-4c97-de16-758696220c7c",
        "colab": {
          "base_uri": "https://localhost:8080/"
        }
      },
      "source": [
        "b = '$#%@#$%'\n",
        "a = bool(b)\n",
        "print(a)"
      ],
      "execution_count": 15,
      "outputs": [
        {
          "output_type": "stream",
          "text": [
            "True\n"
          ],
          "name": "stdout"
        }
      ]
    },
    {
      "cell_type": "code",
      "metadata": {
        "id": "jDTr_lCnZ9VJ"
      },
      "source": [
        ""
      ],
      "execution_count": null,
      "outputs": []
    },
    {
      "cell_type": "markdown",
      "metadata": {
        "id": "of0fLQn7Z9VM"
      },
      "source": [
        "# Exercise3\n"
      ]
    },
    {
      "cell_type": "code",
      "metadata": {
        "id": "kIFZzB0LZ9VN",
        "outputId": "925b9f1d-9f4b-488e-b344-613bb3887c51",
        "colab": {
          "base_uri": "https://localhost:8080/"
        }
      },
      "source": [
        "name = 50.3423423423\n",
        "print('My name is {:1}.'.format(name))\n"
      ],
      "execution_count": 22,
      "outputs": [
        {
          "output_type": "stream",
          "text": [
            "My name is 50.3423423423.\n"
          ],
          "name": "stdout"
        }
      ]
    },
    {
      "cell_type": "code",
      "metadata": {
        "id": "OCkUWcfIZ9VR"
      },
      "source": [
        ""
      ],
      "execution_count": null,
      "outputs": []
    },
    {
      "cell_type": "markdown",
      "metadata": {
        "id": "6mq1UBS9Z9VU"
      },
      "source": [
        "# Exercise4"
      ]
    },
    {
      "cell_type": "code",
      "metadata": {
        "id": "W_kwTE6OZ9VV",
        "outputId": "22ae8c24-9e96-43b4-92d7-8f6f92550227",
        "colab": {
          "base_uri": "https://localhost:8080/"
        }
      },
      "source": [
        "a = 123.45\n",
        "b = '456.78'\n",
        "\n",
        "print(a + float(b))"
      ],
      "execution_count": 25,
      "outputs": [
        {
          "output_type": "stream",
          "text": [
            "580.23\n"
          ],
          "name": "stdout"
        }
      ]
    },
    {
      "cell_type": "markdown",
      "metadata": {
        "id": "9lrFLnwRZ9VY"
      },
      "source": [
        "# Exercise 5"
      ]
    },
    {
      "cell_type": "code",
      "metadata": {
        "id": "rMOhYZejZ9VZ",
        "outputId": "297cf21d-225b-4606-c95e-fa3ef8d04b80",
        "colab": {
          "base_uri": "https://localhost:8080/"
        }
      },
      "source": [
        "a = 0.1\n",
        "b = 0.1\n",
        "\n",
        "print(str(a == b) + ' : ' + str(a is b))"
      ],
      "execution_count": 30,
      "outputs": [
        {
          "output_type": "stream",
          "text": [
            "True : False\n"
          ],
          "name": "stdout"
        }
      ]
    },
    {
      "cell_type": "markdown",
      "metadata": {
        "id": "Fj5Mxf5UZ9Vd"
      },
      "source": [
        "# Exercise 6"
      ]
    },
    {
      "cell_type": "code",
      "metadata": {
        "id": "TU1zRHOLZ9Vf",
        "outputId": "937a80eb-ec1e-4caa-b051-2bf5937af9dd",
        "colab": {
          "base_uri": "https://localhost:8080/"
        }
      },
      "source": [
        "sentence = 'Beautiful is better than ugly. Explicit is better than implicit.'\n",
        "\n",
        "words = sentence.split()\n",
        "\n",
        "print('Explicit' in words)\n",
        "print(len(sentence))\n",
        "print(len(words))"
      ],
      "execution_count": 36,
      "outputs": [
        {
          "output_type": "stream",
          "text": [
            "True\n",
            "64\n",
            "10\n"
          ],
          "name": "stdout"
        }
      ]
    },
    {
      "cell_type": "code",
      "metadata": {
        "id": "sA7etwODLN61"
      },
      "source": [
        ""
      ],
      "execution_count": null,
      "outputs": []
    },
    {
      "cell_type": "markdown",
      "metadata": {
        "id": "iDG62IqhZ9Vn"
      },
      "source": [
        "# Exercise7"
      ]
    },
    {
      "cell_type": "code",
      "metadata": {
        "id": "-BpuGBxKZ9Vo",
        "outputId": "915a8197-ee58-44a8-fd14-e06b4a84ba29",
        "colab": {
          "base_uri": "https://localhost:8080/"
        }
      },
      "source": [
        "number = (1, 2, )\n",
        "number = ('a', 'b', 'c')\n",
        "type(number)\n",
        "print(number)"
      ],
      "execution_count": 40,
      "outputs": [
        {
          "output_type": "stream",
          "text": [
            "('a', 'b', 'c')\n"
          ],
          "name": "stdout"
        }
      ]
    },
    {
      "cell_type": "markdown",
      "metadata": {
        "id": "zZGm0kx5Z9Vs"
      },
      "source": [
        "# Exercise8"
      ]
    },
    {
      "cell_type": "code",
      "metadata": {
        "id": "fhFtP0NMZ9Vt",
        "outputId": "38ded247-f63c-40f9-9d39-633600c7322d",
        "colab": {
          "base_uri": "https://localhost:8080/"
        }
      },
      "source": [
        "student = {'name': 'Mary', 'age': 22, 'name': 'Peter'}\n",
        "student['name']\n",
        "print(student)"
      ],
      "execution_count": 43,
      "outputs": [
        {
          "output_type": "stream",
          "text": [
            "{'name': 'Peter', 'age': 22}\n"
          ],
          "name": "stdout"
        }
      ]
    },
    {
      "cell_type": "code",
      "metadata": {
        "id": "y1RpnXh4MiWS"
      },
      "source": [
        ""
      ],
      "execution_count": null,
      "outputs": []
    },
    {
      "cell_type": "markdown",
      "metadata": {
        "id": "ng9CbysaZ9Vw"
      },
      "source": [
        "# Exercise9"
      ]
    },
    {
      "cell_type": "code",
      "metadata": {
        "id": "8x_4z2U0Z9Vy",
        "outputId": "4290c6a1-d0a1-445b-9496-e057ba37e820",
        "colab": {
          "base_uri": "https://localhost:8080/"
        }
      },
      "source": [
        "string = input('Please enter a phone number: ')\n",
        "print('The input number is {}'.format(string))\n",
        "if (len(string) == 8) and (string[0] in ['2', '3', '5', '6', '9']) and (string.isdigit()):\n",
        "  print('It is a valid phone number.')\n",
        "else:\n",
        "  print('It is not a valid phone number.')"
      ],
      "execution_count": 53,
      "outputs": [
        {
          "output_type": "stream",
          "text": [
            "Please enter a phone number: 21234567\n",
            "The input number is 21234567\n",
            "It is a valid phone number.\n"
          ],
          "name": "stdout"
        }
      ]
    },
    {
      "cell_type": "code",
      "metadata": {
        "id": "AR-ELqvANQqo"
      },
      "source": [
        ""
      ],
      "execution_count": null,
      "outputs": []
    },
    {
      "cell_type": "markdown",
      "metadata": {
        "id": "FH80WJizZ9V0"
      },
      "source": [
        "# Exercise10"
      ]
    },
    {
      "cell_type": "code",
      "metadata": {
        "id": "c4H-eYagM_Zj",
        "outputId": "d3adb64a-862c-40f7-8932-a88a50d657e9",
        "colab": {
          "base_uri": "https://localhost:8080/"
        }
      },
      "source": [
        "for i in range(11, 27, 2):\n",
        "  print(i)"
      ],
      "execution_count": 54,
      "outputs": [
        {
          "output_type": "stream",
          "text": [
            "11\n",
            "13\n",
            "15\n",
            "17\n",
            "19\n",
            "21\n",
            "23\n",
            "25\n"
          ],
          "name": "stdout"
        }
      ]
    },
    {
      "cell_type": "markdown",
      "metadata": {
        "id": "98ojKM3qM_Zj"
      },
      "source": [
        "# Exercise 11"
      ]
    },
    {
      "cell_type": "code",
      "metadata": {
        "id": "7SLb0xcYZ9V1",
        "outputId": "48274255-c8eb-457f-91ac-be8d7e642809",
        "colab": {
          "base_uri": "https://localhost:8080/"
        }
      },
      "source": [
        "while True:\n",
        "  string = input('Please enter a phone number: ')\n",
        "  print('The input number is {}'.format(string))\n",
        "\n",
        "  if (len(string) == 8) and (string[0] in ['2', '3', '5', '6', '9']) and (string.isdigit()):\n",
        "    print('It is a valid phone number.')\n",
        "    break\n",
        "\n",
        "  print('It is not a valid phone number.')"
      ],
      "execution_count": 62,
      "outputs": [
        {
          "output_type": "stream",
          "text": [
            "Please enter a phone number: 53270046\n",
            "The input number is 53270046\n",
            "It is a valid phone number.\n"
          ],
          "name": "stdout"
        }
      ]
    },
    {
      "cell_type": "markdown",
      "metadata": {
        "id": "F6_d7iGHYegB"
      },
      "source": [
        "# Exercise12\n"
      ]
    },
    {
      "cell_type": "code",
      "metadata": {
        "id": "Ki5FT_M_YhOz",
        "colab": {
          "base_uri": "https://localhost:8080/"
        },
        "outputId": "cd2328f8-d5ba-4393-d3ad-1c75813ba8da"
      },
      "source": [
        "import numpy as np\n",
        "\n",
        "arr = np.random.randint(0, 1000, 10)\n",
        "\n",
        "print('arr before sorting:', arr)\n",
        "\n",
        "# ====================================================\n",
        "# Write your insertion sort here\n",
        "for original in range(1, len(arr)):\n",
        "    while original > 0:\n",
        "        if arr[original] > arr[original - 1]:\n",
        "            break\n",
        "        arr[original], arr[original - 1] = arr[original - 1], arr[original]\n",
        "        original -= 1\n",
        "\n",
        "# ====================================================\n",
        "\n",
        "print('arr after sorting:', arr)\n"
      ],
      "execution_count": null,
      "outputs": [
        {
          "output_type": "stream",
          "text": [
            "arr before sorting: [860 964 223 836 766 470 234 208 600 262]\n",
            "arr after sorting: [208 223 234 262 470 600 766 836 860 964]\n"
          ],
          "name": "stdout"
        }
      ]
    },
    {
      "cell_type": "code",
      "metadata": {
        "id": "FhnlHbOglAn-"
      },
      "source": [
        ""
      ],
      "execution_count": null,
      "outputs": []
    }
  ]
}